{
 "cells": [
  {
   "cell_type": "code",
   "execution_count": 2,
   "metadata": {},
   "outputs": [],
   "source": [
    "import os\n",
    "import numpy as np\n",
    "import pandas as pd"
   ]
  },
  {
   "cell_type": "markdown",
   "metadata": {},
   "source": [
    "# data/splits shape\n"
   ]
  },
  {
   "cell_type": "code",
   "execution_count": 11,
   "metadata": {},
   "outputs": [
    {
     "name": "stdout",
     "output_type": "stream",
     "text": [
      "14\n"
     ]
    },
    {
     "data": {
      "text/plain": [
       "['users_index_test_MSD-A-songs.tsv',\n",
       " 'matrix_train_MSD-A-artists.npz',\n",
       " 'items_index_test_MSD-A-artists.tsv',\n",
       " 'matrix_test_MSD-A-artists.npz',\n",
       " 'y_train_als_200_MSD-A-artists.npy',\n",
       " 'items_index_test_MSD-A-songs.tsv',\n",
       " 'items_index_train_MSD-A-artists.tsv',\n",
       " 'items_index_train_MSD-A-songs.tsv',\n",
       " 'user_factors_als_200_MSD-A-artists.npy',\n",
       " 'matrix_test_MSD-A-songs.npz',\n",
       " 'user_factors_als_200_MSD-A-songs.npy',\n",
       " 'users_index_test_MSD-A-artists.tsv',\n",
       " 'matrix_train_MSD-A-songs.npz',\n",
       " 'y_train_als_200_MSD-A-songs.npy']"
      ]
     },
     "execution_count": 11,
     "metadata": {},
     "output_type": "execute_result"
    }
   ],
   "source": [
    "dir1=os.getcwd()+'/data/splits/'\n",
    "files=os.listdir(dir1)\n",
    "print(len(files))\n",
    "files"
   ]
  },
  {
   "cell_type": "code",
   "execution_count": 12,
   "metadata": {},
   "outputs": [
    {
     "name": "stdout",
     "output_type": "stream",
     "text": [
      "y_train_als_200_MSD-A-artists.npy (19235, 200)\n",
      "user_factors_als_200_MSD-A-artists.npy (935811, 200)\n",
      "user_factors_als_200_MSD-A-songs.npy (935294, 200)\n",
      "y_train_als_200_MSD-A-songs.npy (264344, 200)\n"
     ]
    }
   ],
   "source": [
    "for fi in files:\n",
    "    if fi[-3:]=='npy':\n",
    "        a=np.load(dir1+fi)\n",
    "        print(fi,a.shape)"
   ]
  },
  {
   "cell_type": "code",
   "execution_count": 13,
   "metadata": {},
   "outputs": [
    {
     "name": "stdout",
     "output_type": "stream",
     "text": [
      "matrix_train_MSD-A-artists.npz\n",
      "indices (20036514,)\n",
      "indptr (19236,)\n",
      "shape (2,)\n",
      "data (20036514,)\n",
      "\n",
      "matrix_test_MSD-A-artists.npz\n",
      "indices (5070613,)\n",
      "indptr (4809,)\n",
      "shape (2,)\n",
      "data (5070613,)\n",
      "\n",
      "matrix_test_MSD-A-songs.npz\n",
      "indices (8375338,)\n",
      "indptr (64478,)\n",
      "shape (2,)\n",
      "data (8375338,)\n",
      "\n",
      "matrix_train_MSD-A-songs.npz\n",
      "indices (33683521,)\n",
      "indptr (264345,)\n",
      "shape (2,)\n",
      "data (33683521,)\n",
      "\n"
     ]
    }
   ],
   "source": [
    "for fi in files:\n",
    "    if fi[-3:]=='npz':\n",
    "        a=np.load(dir1+fi)\n",
    "        print(fi)\n",
    "        for k,v in a.items():\n",
    "            print(k,v.shape)\n",
    "        print()"
   ]
  },
  {
   "cell_type": "code",
   "execution_count": 14,
   "metadata": {},
   "outputs": [
    {
     "name": "stdout",
     "output_type": "stream",
     "text": [
      "users_index_test_MSD-A-songs.tsv 935293 1\n",
      "items_index_test_MSD-A-artists.tsv 4807 1\n",
      "items_index_test_MSD-A-songs.tsv 64476 1\n",
      "items_index_train_MSD-A-artists.tsv 19234 1\n",
      "items_index_train_MSD-A-songs.tsv 264343 1\n",
      "users_index_test_MSD-A-artists.tsv 935810 1\n"
     ]
    }
   ],
   "source": [
    "for fi in files:\n",
    "    if fi[-3:]=='tsv':\n",
    "        a=pd.read_csv(dir1+fi,'\\t')\n",
    "        print(fi,len(a),len(a.columns))"
   ]
  },
  {
   "cell_type": "markdown",
   "metadata": {},
   "source": [
    "# data/train_data shape"
   ]
  },
  {
   "cell_type": "code",
   "execution_count": 16,
   "metadata": {},
   "outputs": [
    {
     "name": "stdout",
     "output_type": "stream",
     "text": [
      "22\n"
     ]
    },
    {
     "data": {
      "text/plain": [
       "['X_train_audio-emb_MSD-A-songs.npy',\n",
       " 'X_test_bio_MSD-A-artists.npz',\n",
       " 'X_train_a-tags-emb_MSD-A-songs.npy',\n",
       " 'X_test_audio-emb_MSD-A-songs.npy',\n",
       " 'X_test_tags_MSD-A-artists.npz',\n",
       " 'X_test_tags_MSD-A-songs.npz',\n",
       " 'X_test_a-tags-emb_MSD-A-songs.npy',\n",
       " 'X_train_sem-bio_MSD-A-artists.npz',\n",
       " 'X_test_sem-bio_MSD-A-artists.npz',\n",
       " 'embedding_weights_w2v_MSD-A-artists.pk',\n",
       " 'X_train_tags_MSD-A-artists.npz',\n",
       " 'X_train_tags_MSD-A-songs.npz',\n",
       " 'embedding_weights_w2v-goo_MSD-A-artists.pk',\n",
       " 'X_test_sem-bio_MSD-A-songs.npz',\n",
       " 'X_train_w2v_MSD-A-artists.npy',\n",
       " 'X_train_a-sem-emb_MSD-A-songs.npy',\n",
       " 'X_train_sem-bio_MSD-A-songs.npz',\n",
       " 'X_train_w2v-goo_MSD-A-artists.npy',\n",
       " 'X_test_w2v-goo_MSD-A-artists.npy',\n",
       " 'X_train_bio_MSD-A-artists.npz',\n",
       " 'X_test_a-sem-emb_MSD-A-songs.npy',\n",
       " 'X_test_w2v_MSD-A-artists.npy']"
      ]
     },
     "execution_count": 16,
     "metadata": {},
     "output_type": "execute_result"
    }
   ],
   "source": [
    "dir1=os.getcwd()+'/data/train_data/'\n",
    "files=os.listdir(dir1)\n",
    "print(len(files))\n",
    "files"
   ]
  },
  {
   "cell_type": "code",
   "execution_count": null,
   "metadata": {},
   "outputs": [
    {
     "name": "stdout",
     "output_type": "stream",
     "text": [
      "X_train_audio-emb_MSD-A-songs.npy (264344, 4096)\n",
      "X_train_a-tags-emb_MSD-A-songs.npy (264344, 2048)\n",
      "X_test_audio-emb_MSD-A-songs.npy (64477, 4096)\n",
      "X_test_a-tags-emb_MSD-A-songs.npy (64477, 2048)\n",
      "X_train_w2v_MSD-A-artists.npy (19235, 500)\n"
     ]
    }
   ],
   "source": [
    "for fi in files:\n",
    "    if fi[-3:]=='npy':\n",
    "        a=np.load(dir1+fi)\n",
    "        print(fi,a.shape)"
   ]
  },
  {
   "cell_type": "code",
   "execution_count": null,
   "metadata": {},
   "outputs": [],
   "source": [
    "for fi in files:\n",
    "    if fi[-3:]=='npz':\n",
    "        a=np.load(dir1+fi)\n",
    "        print(fi)\n",
    "        for k,v in a.items():\n",
    "            print(k,v.shape)\n",
    "        print()"
   ]
  },
  {
   "cell_type": "code",
   "execution_count": null,
   "metadata": {},
   "outputs": [],
   "source": []
  }
 ],
 "metadata": {
  "kernelspec": {
   "display_name": "Python 3",
   "language": "python",
   "name": "python3"
  },
  "language_info": {
   "codemirror_mode": {
    "name": "ipython",
    "version": 3
   },
   "file_extension": ".py",
   "mimetype": "text/x-python",
   "name": "python",
   "nbconvert_exporter": "python",
   "pygments_lexer": "ipython3",
   "version": "3.6.6"
  }
 },
 "nbformat": 4,
 "nbformat_minor": 2
}
